{
 "cells": [
  {
   "cell_type": "code",
   "execution_count": 1,
   "metadata": {},
   "outputs": [
    {
     "output_type": "execute_result",
     "data": {
      "text/plain": [
       "'id-ID.UTF-8'"
      ]
     },
     "metadata": {},
     "execution_count": 1
    }
   ],
   "source": [
    "import csv\n",
    "import time\n",
    "import math\n",
    "import regex as re\n",
    "import os\n",
    "from datetime import datetime\n",
    "from selenium import webdriver\n",
    "from selenium.webdriver.common.keys import Keys\n",
    "from selenium.webdriver.common.by import By\n",
    "from selenium.webdriver.support.ui import WebDriverWait\n",
    "from selenium.webdriver.support import expected_conditions as EC\n",
    "from selenium.common.exceptions import NoSuchElementException\n",
    "\n",
    "import locale\n",
    "locale.setlocale(locale.LC_TIME, 'id-ID.UTF-8')"
   ]
  },
  {
   "cell_type": "code",
   "execution_count": 2,
   "metadata": {},
   "outputs": [],
   "source": [
    "def check_exists_by_xpath(xpath):\n",
    "    try:\n",
    "        driver.find_element_by_xpath(xpath)\n",
    "    except NoSuchElementException:\n",
    "        return False\n",
    "    return True"
   ]
  },
  {
   "cell_type": "markdown",
   "metadata": {},
   "source": [
    "# Set Target"
   ]
  },
  {
   "cell_type": "code",
   "execution_count": 6,
   "metadata": {},
   "outputs": [],
   "source": [
    "target = [\n",
    "    \"https://www.happyfresh.id/super-indo-semolowaru/\",\n",
    "    \"https://www.happyfresh.id/super-indo-satelit-utara/\",\n",
    "    \"https://www.happyfresh.id/giant-ekspres-ar-hakim/\",\n",
    "    \"https://www.happyfresh.id/lotte-mart-marvell-city/\",\n",
    "    \"https://www.happyfresh.id/hero-tunjungan-plaza/\",\n",
    "    \"https://www.happyfresh.id/farmers-market-kupang-indah/\",\n",
    "    \"https://www.happyfresh.id/papaya-fresh-gallery-margorejo/\",\n",
    "    \"https://www.happyfresh.id/freshco-market-grand-city/\"\n",
    "]\n",
    "category = [\n",
    "    \"fresh-produce-2\",\n",
    "    \"meat-seafood-7\",\n",
    "    \"pantry-48\",\n",
    "    \"dairy-eggs-24\",\n",
    "    \"dry-canned-goods-34\",\n",
    "    \"frozen-70\"\n",
    "]\n",
    "plus = '?page='"
   ]
  },
  {
   "cell_type": "markdown",
   "metadata": {},
   "source": [
    "# Start Scrap"
   ]
  },
  {
   "cell_type": "code",
   "execution_count": 26,
   "metadata": {},
   "outputs": [],
   "source": [
    "datenow = datetime.date(datetime.now()).strftime('%d%m%Y')\n",
    "os.mkdir(datenow)"
   ]
  },
  {
   "cell_type": "code",
   "execution_count": 25,
   "metadata": {},
   "outputs": [
    {
     "output_type": "error",
     "ename": "FileNotFoundError",
     "evalue": "[Errno 2] No such file or directory: 'D:/Ternakmart/Project/Web Scrapping Competitor/27052021/scrapped_super-indo-semolowaru.csv'",
     "traceback": [
      "\u001b[1;31m---------------------------------------------------------------------------\u001b[0m",
      "\u001b[1;31mFileNotFoundError\u001b[0m                         Traceback (most recent call last)",
      "\u001b[1;32m<ipython-input-25-f361970cc0b4>\u001b[0m in \u001b[0;36m<module>\u001b[1;34m\u001b[0m\n\u001b[0;32m      7\u001b[0m \u001b[1;33m\u001b[0m\u001b[0m\n\u001b[0;32m      8\u001b[0m     \u001b[0moutlet\u001b[0m \u001b[1;33m=\u001b[0m \u001b[0murl\u001b[0m\u001b[1;33m.\u001b[0m\u001b[0msplit\u001b[0m\u001b[1;33m(\u001b[0m\u001b[1;34m'/'\u001b[0m\u001b[1;33m)\u001b[0m\u001b[1;33m[\u001b[0m\u001b[1;36m3\u001b[0m\u001b[1;33m]\u001b[0m\u001b[1;33m\u001b[0m\u001b[1;33m\u001b[0m\u001b[0m\n\u001b[1;32m----> 9\u001b[1;33m     \u001b[0mcsvFile\u001b[0m \u001b[1;33m=\u001b[0m \u001b[0mopen\u001b[0m\u001b[1;33m(\u001b[0m\u001b[1;34m\"D:/Ternakmart/Project/Web Scrapping Competitor/%s/scrapped_%s.csv\"\u001b[0m \u001b[1;33m%\u001b[0m \u001b[1;33m(\u001b[0m\u001b[0mdatenow\u001b[0m\u001b[1;33m,\u001b[0m \u001b[0moutlet\u001b[0m\u001b[1;33m,\u001b[0m\u001b[1;33m)\u001b[0m\u001b[1;33m,\u001b[0m \u001b[1;34m'a'\u001b[0m\u001b[1;33m,\u001b[0m \u001b[0mnewline\u001b[0m\u001b[1;33m=\u001b[0m\u001b[1;34m''\u001b[0m\u001b[1;33m)\u001b[0m\u001b[1;33m\u001b[0m\u001b[1;33m\u001b[0m\u001b[0m\n\u001b[0m\u001b[0;32m     10\u001b[0m     \u001b[0mcsvWriter\u001b[0m \u001b[1;33m=\u001b[0m \u001b[0mcsv\u001b[0m\u001b[1;33m.\u001b[0m\u001b[0mwriter\u001b[0m\u001b[1;33m(\u001b[0m\u001b[0mcsvFile\u001b[0m\u001b[1;33m)\u001b[0m\u001b[1;33m\u001b[0m\u001b[1;33m\u001b[0m\u001b[0m\n\u001b[0;32m     11\u001b[0m     \u001b[0mcsvWriter\u001b[0m\u001b[1;33m.\u001b[0m\u001b[0mwriterow\u001b[0m\u001b[1;33m(\u001b[0m\u001b[1;33m[\u001b[0m\u001b[1;34m'Kategori'\u001b[0m\u001b[1;33m,\u001b[0m\u001b[1;34m'Nama'\u001b[0m\u001b[1;33m,\u001b[0m\u001b[1;34m'Pack'\u001b[0m\u001b[1;33m,\u001b[0m\u001b[1;34m'Harga'\u001b[0m\u001b[1;33m,\u001b[0m \u001b[1;34m'Satuan'\u001b[0m\u001b[1;33m,\u001b[0m \u001b[1;34m'Harga per unit'\u001b[0m\u001b[1;33m]\u001b[0m\u001b[1;33m)\u001b[0m\u001b[1;33m\u001b[0m\u001b[1;33m\u001b[0m\u001b[0m\n",
      "\u001b[1;31mFileNotFoundError\u001b[0m: [Errno 2] No such file or directory: 'D:/Ternakmart/Project/Web Scrapping Competitor/27052021/scrapped_super-indo-semolowaru.csv'"
     ]
    }
   ],
   "source": [
    "# Looping  for each url on list\n",
    "for url in target :\n",
    "    \n",
    "    driver = webdriver.Chrome(\"D:\\chromedriver\")\n",
    "    actionChain = webdriver.ActionChains(driver)\n",
    "    time.sleep(3)\n",
    "    \n",
    "    outlet = url.split('/')[3]\n",
    "    csvFile = open(\"D:/Ternakmart/Project/Web Scrapping Competitor/%s/scrapped_%s.csv\" % (datenow, outlet,), 'a', newline='')\n",
    "    csvWriter = csv.writer(csvFile)\n",
    "    csvWriter.writerow(['Kategori','Nama','Pack','Harga', 'Satuan', 'Harga per unit'])\n",
    "    \n",
    "    print(\"==> \", outlet, \" <==\")\n",
    "    print(\"========================================\")\n",
    "    \n",
    "    for cat in category :\n",
    "        \n",
    "        driver.get(url+cat)\n",
    "        cat_name = cat.replace(\"-\", \" \").rsplit(' ', 1)[0]\n",
    "    \n",
    "        if (check_exists_by_xpath(\".//span[@class='jsx-4062261742 count']\")):\n",
    "            #get total item and total pages\n",
    "            totproduct = int(driver.find_element_by_xpath(\".//span[@class='jsx-4062261742 count']\").text);\n",
    "            totpage = math.ceil(totproduct/20)\n",
    "\n",
    "            #Looping each pages\n",
    "            for i in range(0,totpage):\n",
    "                container = driver.find_elements_by_xpath(\"//div[@class='jsx-2751153571 root small PLP-Common-\"+cat+\"-product-container']\")\n",
    "                num_page_items = len(container);\n",
    "                pagenow = i+1\n",
    "                print(cat_name, \"=> Page : \", pagenow, \"/\", totpage, end = ' ')\n",
    "    #             print(\"Total Items on Page : \", num_page_items)\n",
    "\n",
    "                #Looping each product in pages\n",
    "                for j in range(num_page_items):\n",
    "#                     time.sleep(1)\n",
    "\n",
    "                    # to save product name\n",
    "                    name = container[j].find_element_by_xpath(\".//h2[@class='jsx-2751153571 jsx-717190455']\").text.encode(\"utf-8\", \"ignore\")\n",
    "    #                 print(name)\n",
    "\n",
    "                    # to save product qty\n",
    "                    packaging = container[j].find_element_by_xpath(\".//div[@class='jsx-2751153571 jsx-717190455 unit']\").text;\n",
    "    #                 print(packaging)\n",
    "\n",
    "                    # to save harga\n",
    "                    price = container[j].find_element_by_xpath(\".//span[@class='jsx-2751153571 jsx-717190455 price']\").text;\n",
    "                    if (price == ''):\n",
    "                        price = container[j].find_element_by_xpath(\".//div[@class='jsx-2751153571 jsx-717190455 price PLP-Common-\"+cat+\"-discount-price']\").text;\n",
    "    #                 print(price)\n",
    "\n",
    "                    # to save gramasi produk\n",
    "                    if (check_exists_by_xpath(\"//div[@class='jsx-2751153571 jsx-717190455 unit-price']\")):\n",
    "                        gram = container[j].find_element_by_xpath(\".//div[@class='jsx-2751153571 jsx-717190455 unit-price']\").text;\n",
    "                        if gram == \"\":\n",
    "                            unitprice = 0\n",
    "                            satuan = 0\n",
    "                        else:\n",
    "                            unitprice = gram.split('/')[0]\n",
    "                            satuan = gram.split('/')[1]\n",
    "        #                 print(unitprice)\n",
    "        #                 print(satuan)\n",
    "\n",
    "                    # to save in a csv file readable\n",
    "                    csvWriter.writerow([cat_name, name, packaging, price, satuan, unitprice])\n",
    "\n",
    "                # to change the page\n",
    "                print(\"Done!\")\n",
    "                if pagenow != totpage:\n",
    "                    driver.get(url+cat+plus+str(pagenow+1))\n",
    "        else :\n",
    "            print(cat_name+\" => No Product found🤔\")\n",
    "    csvFile.close()\n",
    "    driver.close()\n",
    "    print(\"Done Scrapped : \", outlet)\n",
    "    print(\"========================================\")\n",
    "print(\"ALL TARGET SCRAPPED!!!\")"
   ]
  },
  {
   "cell_type": "code",
   "execution_count": 5,
   "metadata": {},
   "outputs": [],
   "source": [
    "csvFile.close()\n",
    "driver.close()"
   ]
  }
 ],
 "metadata": {
  "kernelspec": {
   "name": "python385jvsc74a57bd0b3ba2566441a7c06988d0923437866b63cedc61552a5af99d1f4fb67d367b25f",
   "display_name": "Python 3.8.5 64-bit ('base': conda)"
  },
  "language_info": {
   "codemirror_mode": {
    "name": "ipython",
    "version": 3
   },
   "file_extension": ".py",
   "mimetype": "text/x-python",
   "name": "python",
   "nbconvert_exporter": "python",
   "pygments_lexer": "ipython3",
   "version": "3.8.5"
  }
 },
 "nbformat": 4,
 "nbformat_minor": 4
}