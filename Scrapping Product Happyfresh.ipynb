{
 "cells": [
  {
   "cell_type": "code",
   "execution_count": null,
   "metadata": {},
   "outputs": [],
   "source": [
    "import csv\n",
    "import time\n",
    "import math\n",
    "from selenium import webdriver\n",
    "from selenium.webdriver.common.keys import Keys\n",
    "from selenium.webdriver.common.by import By\n",
    "from selenium.webdriver.support.ui import WebDriverWait\n",
    "from selenium.webdriver.support import expected_conditions as EC"
   ]
  },
  {
   "cell_type": "code",
   "execution_count": null,
   "metadata": {},
   "outputs": [],
   "source": [
    "def check_exists_by_xpath(xpath):\n",
    "    try:\n",
    "        driver.find_element_by_xpath(xpath)\n",
    "    except NoSuchElementException:\n",
    "        return False\n",
    "    return True"
   ]
  },
  {
   "cell_type": "markdown",
   "metadata": {},
   "source": [
    "# Set Target"
   ]
  },
  {
   "cell_type": "code",
   "execution_count": null,
   "metadata": {},
   "outputs": [],
   "source": [
    "target = [\n",
    "    \"https://www.happyfresh.id/super-indo-semolowaru/meat-seafood-7\",\n",
    "    \"https://www.happyfresh.id/super-indo-satelit-utara/meat-seafood-7\",\n",
    "    \"https://www.happyfresh.id/giant-ekspres-ar-hakim/meat-seafood-7\",\n",
    "    \"https://www.happyfresh.id/lotte-mart-marvell-city/meat-seafood-7\",\n",
    "    \"https://www.happyfresh.id/hero-tunjungan-plaza/meat-seafood-7\",\n",
    "    \"https://www.happyfresh.id/farmers-market-kupang-indah/meat-seafood-7\",\n",
    "    \"https://www.happyfresh.id/papaya-fresh-gallery-margorejo/meat-seafood-7\",\n",
    "    \"https://www.happyfresh.id/freshco-market-grand-city/meat-seafood-7\"\n",
    "]\n",
    "category = [\n",
    "    \"fresh-produce-2\",\n",
    "    \"pantry-48\",\n",
    "    \"dairy-eggs-24\",\n",
    "    \"dry-canned-goods-34\",\n",
    "    \"frozen-70\"\n",
    "]\n",
    "plus = '?page='"
   ]
  },
  {
   "cell_type": "markdown",
   "metadata": {},
   "source": [
    "# Start Scrap"
   ]
  },
  {
   "cell_type": "code",
   "execution_count": null,
   "metadata": {},
   "outputs": [],
   "source": [
    "# Looping  for each url on list\n",
    "for url in target :\n",
    "    \n",
    "    driver = webdriver.Chrome(\"F:\\Downloads\\chromedriver\")\n",
    "    actionChain = webdriver.ActionChains(driver)\n",
    "    time.sleep(3)\n",
    "    \n",
    "    outlet = url.split('/')[3]\n",
    "    csvFile = open(\"D:/Ternakmart/Project/Web Scrapping Competitor/Hasil/scraps-%s.csv\" % (outlet,), 'a', newline='')\n",
    "    csvWriter = csv.writer(csvFile)\n",
    "    csvWriter.writerow(['Kategori','Nama','Packaging','Harga','Harga unit','Satuan'])\n",
    "    \n",
    "    print(\"Current Target -> \", outlet)\n",
    "    print(\"========================================\")\n",
    "    \n",
    "    for cat in category :\n",
    "        \n",
    "        driver.get(url+cat)\n",
    "    \n",
    "        #get total item and total pages\n",
    "        totproduct = int(driver.find_element_by_xpath(\".//span[@class='jsx-4062261742 count']\").text);\n",
    "        print(\"Category : \", cat)\n",
    "        print(\"Total Items : \", totproduct)\n",
    "        totpage = math.ceil(totproduct/20)\n",
    "        print(\"Total Page : \", totpage)\n",
    "\n",
    "        #Looping each pages\n",
    "        for i in range(0,totpage):\n",
    "            container = driver.find_elements_by_xpath(\"//div[@class='jsx-2751153571 root small PLP-Common-\"+cat+\"-product-container']\")\n",
    "            num_page_items = len(container);\n",
    "            pagenow = i+1\n",
    "            print(\"Page : \", pagenow, \"/\", totpage)\n",
    "#             print(\"Total Items on Page : \", num_page_items)\n",
    "\n",
    "            #Looping each product in pages\n",
    "            for j in range(num_page_items):\n",
    "\n",
    "                # to save product name\n",
    "                name = container[j].find_element_by_xpath(\".//h2[@class='jsx-2751153571 jsx-717190455']\").text;\n",
    "#                 print(name)\n",
    "\n",
    "                # to save product qty\n",
    "                packaging = container[j].find_element_by_xpath(\".//div[@class='jsx-2751153571 jsx-717190455 unit']\").text;\n",
    "#                 print(packaging)\n",
    "\n",
    "                # to save harga\n",
    "                price = container[j].find_element_by_xpath(\".//span[@class='jsx-2751153571 jsx-717190455 price']\").text;\n",
    "                if (price == ''):\n",
    "                    price = container[j].find_element_by_xpath(\".//div[@class='jsx-2751153571 jsx-717190455 price PLP-Common-\"+cat+\"-discount-price']\").text;\n",
    "#                 print(price)\n",
    "\n",
    "                # to save gramasi produk\n",
    "                gram = container[j].find_element_by_xpath(\".//div[@class='jsx-2751153571 jsx-717190455 unit-price']\").text;\n",
    "                unitprice = gram.split('/')[0]\n",
    "                satuan = gram.split('/')[1]\n",
    "#                 print(unitprice)\n",
    "#                 print(satuan)\n",
    "\n",
    "                # to save in a csv file readable\n",
    "                csvWriter.writerow([cat, name, packaging, price, unitprice, satuan])\n",
    "\n",
    "            # to change the page\n",
    "            print(\"----------------------------------------\")\n",
    "            if pagenow != totpage:\n",
    "                driver.get(url+cat+plus+str(pagenow+1))\n",
    "                time.sleep(3)\n",
    "            else:\n",
    "                print(\"Page Scrapped!\")\n",
    "        print(\"Category Scrapped!\")\n",
    "    csvFile.close()\n",
    "    driver.close()\n",
    "    print(\"Done Scrapped : \", outlet)\n",
    "    print(\"========================================\")\n",
    "print(\"ALL TARGET SCRAPPED!!!\")"
   ]
  }
 ],
 "metadata": {
  "kernelspec": {
   "display_name": "Python 3",
   "language": "python",
   "name": "python3"
  },
  "language_info": {
   "codemirror_mode": {
    "name": "ipython",
    "version": 3
   },
   "file_extension": ".py",
   "mimetype": "text/x-python",
   "name": "python",
   "nbconvert_exporter": "python",
   "pygments_lexer": "ipython3",
   "version": "3.7.6"
  }
 },
 "nbformat": 4,
 "nbformat_minor": 4
}
